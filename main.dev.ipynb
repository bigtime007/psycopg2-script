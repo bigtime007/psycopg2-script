{
 "cells": [
  {
   "cell_type": "code",
   "execution_count": 33,
   "id": "3a6633ed",
   "metadata": {},
   "outputs": [],
   "source": [
    "import psycopg2\n"
   ]
  },
  {
   "cell_type": "code",
   "execution_count": 34,
   "id": "6d7e2f54",
   "metadata": {},
   "outputs": [],
   "source": [
    "#conn = psycopg2.connect(host=\"localhost\", port=\"5432\", database=\"master\", user=\"postgres\", password=\"password1234\")"
   ]
  },
  {
   "cell_type": "code",
   "execution_count": 35,
   "id": "3ac006f0",
   "metadata": {},
   "outputs": [],
   "source": [
    "from config import config"
   ]
  },
  {
   "cell_type": "code",
   "execution_count": 36,
   "id": "a5281646",
   "metadata": {},
   "outputs": [
    {
     "name": "stdout",
     "output_type": "stream",
     "text": [
      "connecting to db...\n",
      "invalid integer value \"5432\n",
      "password=password1234\" for connection option \"port\"\n",
      "\n"
     ]
    }
   ],
   "source": [
    "def connect():\n",
    "    connection = None\n",
    "    try:\n",
    "        params = config()\n",
    "        print(\"connecting to db...\")\n",
    "        connection = psycopg2.connect(**params)\n",
    "\n",
    "        # create a cursor\n",
    "        crsr = connection.cursor()\n",
    "        print('db ver:')\n",
    "        crsr.execute('SELECT version()')\n",
    "        db_version = crsr.fetchone()\n",
    "        print(db_version)\n",
    "        crsr.close()\n",
    "        \n",
    "    except(Exception, psycopg2.DatabaseError) as error:\n",
    "        print(error)\n",
    "        \n",
    "    finally:\n",
    "        if connection is not None:\n",
    "            \n",
    "            connection.close()\n",
    "            print('db session quit')\n",
    "if __name__ == \"__main__\":\n",
    "    connect()\n"
   ]
  },
  {
   "cell_type": "code",
   "execution_count": null,
   "id": "4600c308",
   "metadata": {},
   "outputs": [],
   "source": []
  }
 ],
 "metadata": {
  "kernelspec": {
   "display_name": "Python 3 (ipykernel)",
   "language": "python",
   "name": "python3"
  },
  "language_info": {
   "codemirror_mode": {
    "name": "ipython",
    "version": 3
   },
   "file_extension": ".py",
   "mimetype": "text/x-python",
   "name": "python",
   "nbconvert_exporter": "python",
   "pygments_lexer": "ipython3",
   "version": "3.9.7"
  }
 },
 "nbformat": 4,
 "nbformat_minor": 5
}
