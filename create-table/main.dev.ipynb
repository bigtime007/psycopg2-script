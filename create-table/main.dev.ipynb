{
 "cells": [
  {
   "cell_type": "code",
   "execution_count": 38,
   "id": "3a6633ed",
   "metadata": {},
   "outputs": [],
   "source": [
    "import psycopg2\n"
   ]
  },
  {
   "cell_type": "code",
   "execution_count": 35,
   "id": "6d7e2f54",
   "metadata": {},
   "outputs": [],
   "source": [
    "#conn = psycopg2.connect(host=\"localhost\", port=\"5432\", database=\"master\", user=\"postgres\", password=\"password1234\")"
   ]
  },
  {
   "cell_type": "code",
   "execution_count": 39,
   "id": "3ac006f0",
   "metadata": {},
   "outputs": [],
   "source": [
    "from config import config"
   ]
  },
  {
   "cell_type": "code",
   "execution_count": 46,
   "id": "a5281646",
   "metadata": {},
   "outputs": [
    {
     "name": "stdout",
     "output_type": "stream",
     "text": [
      "connecting to db...\n",
      "db create:\n",
      "successful\n",
      "db session quit\n"
     ]
    }
   ],
   "source": [
    "def connect():\n",
    "    connection = None\n",
    "    try:\n",
    "        params = config()\n",
    "        print(\"connecting to db...\")\n",
    "        connection = psycopg2.connect(**params)\n",
    "\n",
    "        # create a cursor\n",
    "        crsr = connection.cursor()\n",
    "        print('db create:')\n",
    "        crsr.execute(\"CREATE TABLE cars (id serial PRIMARY KEY, year integer, make varchar, model varchar);\")\n",
    "        connection.commit()\n",
    "                                                    \n",
    "        crsr.execute(\"SELECT * FROM cars;\")\n",
    "        dt_table = None\n",
    "        db_table = crsr.fetchone()\n",
    "        if dt_table == None:\n",
    "            print('successful')\n",
    "        crsr.close()\n",
    "        \n",
    "    except(Exception, psycopg2.DatabaseError) as error:\n",
    "        print(error)\n",
    "        \n",
    "    finally:\n",
    "        if connection is not None:\n",
    "            \n",
    "            connection.close()\n",
    "            print('db session quit')\n",
    "if __name__ == \"__main__\":\n",
    "    connect()\n"
   ]
  },
  {
   "cell_type": "code",
   "execution_count": 30,
   "id": "4600c308",
   "metadata": {},
   "outputs": [],
   "source": [
    "params = config()\n",
    "conn = psycopg2.connect(**params)\n",
    "cur = conn.cursor()"
   ]
  },
  {
   "cell_type": "code",
   "execution_count": 31,
   "id": "cfb74ca6",
   "metadata": {},
   "outputs": [
    {
     "ename": "DuplicateTable",
     "evalue": "relation \"test\" already exists\n",
     "output_type": "error",
     "traceback": [
      "\u001b[1;31m---------------------------------------------------------------------------\u001b[0m",
      "\u001b[1;31mDuplicateTable\u001b[0m                            Traceback (most recent call last)",
      "\u001b[1;32m~\\AppData\\Local\\Temp/ipykernel_89984/2621559345.py\u001b[0m in \u001b[0;36m<module>\u001b[1;34m\u001b[0m\n\u001b[1;32m----> 1\u001b[1;33m \u001b[0mcur\u001b[0m\u001b[1;33m.\u001b[0m\u001b[0mexecute\u001b[0m\u001b[1;33m(\u001b[0m\u001b[1;34m\"CREATE TABLE test (id serial PRIMARY KEY, num integer, data varchar);\"\u001b[0m\u001b[1;33m)\u001b[0m\u001b[1;33m\u001b[0m\u001b[1;33m\u001b[0m\u001b[0m\n\u001b[0m",
      "\u001b[1;31mDuplicateTable\u001b[0m: relation \"test\" already exists\n"
     ]
    }
   ],
   "source": [
    "cur.execute(\"CREATE TABLE test (id serial PRIMARY KEY, num integer, data varchar);\")"
   ]
  },
  {
   "cell_type": "code",
   "execution_count": 32,
   "id": "e233f836",
   "metadata": {},
   "outputs": [
    {
     "ename": "InFailedSqlTransaction",
     "evalue": "current transaction is aborted, commands ignored until end of transaction block\n",
     "output_type": "error",
     "traceback": [
      "\u001b[1;31m---------------------------------------------------------------------------\u001b[0m",
      "\u001b[1;31mInFailedSqlTransaction\u001b[0m                    Traceback (most recent call last)",
      "\u001b[1;32m~\\AppData\\Local\\Temp/ipykernel_89984/2772414512.py\u001b[0m in \u001b[0;36m<module>\u001b[1;34m\u001b[0m\n\u001b[1;32m----> 1\u001b[1;33m \u001b[0mcur\u001b[0m\u001b[1;33m.\u001b[0m\u001b[0mexecute\u001b[0m\u001b[1;33m(\u001b[0m\u001b[1;34m\"INSERT INTO test (num, data) VALUES (%s, %s)\"\u001b[0m\u001b[1;33m,\u001b[0m \u001b[1;33m(\u001b[0m\u001b[1;36m100\u001b[0m\u001b[1;33m,\u001b[0m \u001b[1;34m\"abc'def\"\u001b[0m\u001b[1;33m)\u001b[0m\u001b[1;33m)\u001b[0m\u001b[1;33m\u001b[0m\u001b[1;33m\u001b[0m\u001b[0m\n\u001b[0m",
      "\u001b[1;31mInFailedSqlTransaction\u001b[0m: current transaction is aborted, commands ignored until end of transaction block\n"
     ]
    }
   ],
   "source": [
    "cur.execute(\"INSERT INTO test (num, data) VALUES (%s, %s)\", (100, \"abc'def\"))"
   ]
  },
  {
   "cell_type": "code",
   "execution_count": 33,
   "id": "3b2e7b79",
   "metadata": {},
   "outputs": [
    {
     "ename": "InFailedSqlTransaction",
     "evalue": "current transaction is aborted, commands ignored until end of transaction block\n",
     "output_type": "error",
     "traceback": [
      "\u001b[1;31m---------------------------------------------------------------------------\u001b[0m",
      "\u001b[1;31mInFailedSqlTransaction\u001b[0m                    Traceback (most recent call last)",
      "\u001b[1;32m~\\AppData\\Local\\Temp/ipykernel_89984/843174495.py\u001b[0m in \u001b[0;36m<module>\u001b[1;34m\u001b[0m\n\u001b[1;32m----> 1\u001b[1;33m \u001b[0mcur\u001b[0m\u001b[1;33m.\u001b[0m\u001b[0mexecute\u001b[0m\u001b[1;33m(\u001b[0m\u001b[1;34m\"SELECT * FROM test;\"\u001b[0m\u001b[1;33m)\u001b[0m\u001b[1;33m\u001b[0m\u001b[1;33m\u001b[0m\u001b[0m\n\u001b[0m",
      "\u001b[1;31mInFailedSqlTransaction\u001b[0m: current transaction is aborted, commands ignored until end of transaction block\n"
     ]
    }
   ],
   "source": [
    "cur.execute(\"SELECT * FROM test;\")"
   ]
  },
  {
   "cell_type": "code",
   "execution_count": 25,
   "id": "7c2352ae",
   "metadata": {},
   "outputs": [
    {
     "data": {
      "text/plain": [
       "(1, 100, \"abc'def\")"
      ]
     },
     "execution_count": 25,
     "metadata": {},
     "output_type": "execute_result"
    }
   ],
   "source": [
    "cur.fetchone()"
   ]
  },
  {
   "cell_type": "code",
   "execution_count": 26,
   "id": "9c5008fe",
   "metadata": {},
   "outputs": [],
   "source": [
    "conn.commit()"
   ]
  },
  {
   "cell_type": "code",
   "execution_count": 27,
   "id": "d38097f6",
   "metadata": {},
   "outputs": [],
   "source": [
    "cur.close()\n",
    "conn.close()"
   ]
  },
  {
   "cell_type": "code",
   "execution_count": null,
   "id": "1b8c589e",
   "metadata": {},
   "outputs": [],
   "source": []
  }
 ],
 "metadata": {
  "kernelspec": {
   "display_name": "Python 3 (ipykernel)",
   "language": "python",
   "name": "python3"
  },
  "language_info": {
   "codemirror_mode": {
    "name": "ipython",
    "version": 3
   },
   "file_extension": ".py",
   "mimetype": "text/x-python",
   "name": "python",
   "nbconvert_exporter": "python",
   "pygments_lexer": "ipython3",
   "version": "3.9.7"
  }
 },
 "nbformat": 4,
 "nbformat_minor": 5
}
