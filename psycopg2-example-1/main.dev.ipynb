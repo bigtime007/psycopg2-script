{
 "cells": [
  {
   "cell_type": "code",
   "execution_count": 1,
   "id": "3a6633ed",
   "metadata": {},
   "outputs": [],
   "source": [
    "#Required pip pkg(s)\n",
    "#pip install psycopg2-binary\n",
    "#pip install configparser\n",
    "\n",
    "import psycopg2, psycopg2.extras\n",
    "from config import config"
   ]
  },
  {
   "cell_type": "code",
   "execution_count": 38,
   "id": "6d7e2f54",
   "metadata": {},
   "outputs": [],
   "source": [
    "#conn = psycopg2.connect(host=\"localhost\", port=\"5432\", database=\"master\", user=\"postgres\", password=\"password1234\")"
   ]
  },
  {
   "cell_type": "code",
   "execution_count": 39,
   "id": "3ac006f0",
   "metadata": {},
   "outputs": [],
   "source": []
  },
  {
   "cell_type": "code",
   "execution_count": 2,
   "id": "a5281646",
   "metadata": {},
   "outputs": [
    {
     "name": "stdout",
     "output_type": "stream",
     "text": [
      "connecting to db...\n",
      "db ver:\n",
      "('PostgreSQL 12.10, compiled by Visual C++ build 1914, 64-bit',)\n",
      "db session quit\n"
     ]
    }
   ],
   "source": [
    "def connect():\n",
    "    connection = None\n",
    "    try:\n",
    "        params = config()\n",
    "        print(\"connecting to db...\")\n",
    "        connection = psycopg2.connect(**params)\n",
    "\n",
    "        # create a cursor\n",
    "        crsr = connection.cursor()\n",
    "        print('db ver:')\n",
    "        crsr.execute('SELECT version()')\n",
    "        db_version = crsr.fetchone()\n",
    "        print(db_version)\n",
    "        crsr.close()\n",
    "        \n",
    "    except(Exception, psycopg2.DatabaseError) as error:\n",
    "        print(error)\n",
    "        \n",
    "    finally:\n",
    "        if connection is not None:\n",
    "            \n",
    "            connection.close()\n",
    "            print('db session quit')\n",
    "if __name__ == \"__main__\":\n",
    "    connect()\n"
   ]
  },
  {
   "cell_type": "code",
   "execution_count": 38,
   "id": "4600c308",
   "metadata": {},
   "outputs": [
    {
     "name": "stdout",
     "output_type": "stream",
     "text": [
      "James 18000\n",
      "Scott 19500\n",
      "Jim 18750\n"
     ]
    }
   ],
   "source": [
    "'''\n",
    "params = config()\n",
    "conn = None\n",
    "cur = None\n",
    "try:\n",
    "\n",
    "    conn = psycopg2.connect(**params)\n",
    "    \n",
    "    #1: cursor_factory=psycopg2.extras.DictCursor => returns in form of dict..\n",
    "    cur = conn.cursor(cursor_factory=psycopg2.extras.DictCursor)\n",
    "    \n",
    "    cur.execute('DROP TABLE IF EXISTS employee')\n",
    "    \n",
    "    create_script = ''' CREATE TABLE IF NOT EXISTS employee (\n",
    "                                    id      int PRIMARY KEY,\n",
    "                                    name    varchar(40) NOT NULL,\n",
    "                                    salary  int,\n",
    "                                    dept_id varchar(30)) '''\n",
    "    cur.execute(create_script)\n",
    "    \n",
    "    insert_script = 'INSERT INTO employee (id, name, salary, dept_id) VALUES (%s, %s, %s, %s)'\n",
    "    insert_values = [(1, 'James', 12000, 'D1'), (2, 'Scott', 13000, 'D1'), (3, 'Jim', 12500, 'D2')]\n",
    "    \n",
    "    for record in insert_values:\n",
    "        cur.execute(insert_script, record)\n",
    "    \n",
    "    # Update salary example\n",
    "    update_script = 'UPDATE employee SET salary = salary + (salary * 0.5)'\n",
    "    cur.execute(update_script)\n",
    "    \n",
    "    \n",
    "    cur.execute('SELECT * FROM EMPLOYEE')\n",
    "    for record in cur.fetchall():\n",
    "        #Ref #1 above cur=conn......\n",
    "        print(record['name'], record['salary'])\n",
    "    \n",
    "    \n",
    "    delete_script = 'DELETE FROM employee WHERE name = %s'\n",
    "    delete_record = ('James',)\n",
    "    cur.execute(delete_script, delete_record)\n",
    "    \n",
    "    \n",
    "    conn.commit()\n",
    "    \n",
    "    # not needed for try,except,finally\n",
    "    #cur.close()\n",
    "    #conn.close()\n",
    "\n",
    "except Exception as error:\n",
    "    print(error)\n",
    "    \n",
    "finally:\n",
    "    if cur is not None:\n",
    "        cur.close()\n",
    "    if conn is not None:\n",
    "        conn.close()\n",
    "'''"
   ]
  },
  {
   "cell_type": "code",
   "execution_count": 39,
   "id": "29a91e24",
   "metadata": {},
   "outputs": [
    {
     "name": "stdout",
     "output_type": "stream",
     "text": [
      "James 18000\n",
      "Scott 19500\n",
      "Jim 18750\n"
     ]
    }
   ],
   "source": [
    "# using 'with' Class\n",
    "params = config()\n",
    "conn = None\n",
    "cur = None\n",
    "try:\n",
    "\n",
    "    with psycopg2.connect(**params) as conn:\n",
    "    \n",
    "        #1: cursor_factory=psycopg2.extras.DictCursor => returns in form of dict..\n",
    "        with conn.cursor(cursor_factory=psycopg2.extras.DictCursor) as cur:\n",
    "    \n",
    "            cur.execute('DROP TABLE IF EXISTS employee')\n",
    "\n",
    "            create_script = ''' CREATE TABLE IF NOT EXISTS employee (\n",
    "                                            id      int PRIMARY KEY,\n",
    "                                            name    varchar(40) NOT NULL,\n",
    "                                            salary  int,\n",
    "                                            dept_id varchar(30)) '''\n",
    "            cur.execute(create_script)\n",
    "\n",
    "            insert_script = 'INSERT INTO employee (id, name, salary, dept_id) VALUES (%s, %s, %s, %s)'\n",
    "            insert_values = [(1, 'James', 12000, 'D1'), (2, 'Scott', 13000, 'D1'), (3, 'Jim', 12500, 'D2')]\n",
    "\n",
    "            for record in insert_values:\n",
    "                cur.execute(insert_script, record)\n",
    "\n",
    "            # Update salary example\n",
    "            update_script = 'UPDATE employee SET salary = salary + (salary * 0.5)'\n",
    "            cur.execute(update_script)\n",
    "\n",
    "\n",
    "            cur.execute('SELECT * FROM EMPLOYEE')\n",
    "            for record in cur.fetchall():\n",
    "                #Ref #1 above cur=conn......\n",
    "                print(record['name'], record['salary'])\n",
    "\n",
    "\n",
    "            delete_script = 'DELETE FROM employee WHERE name = %s'\n",
    "            delete_record = ('James',)\n",
    "            cur.execute(delete_script, delete_record)\n",
    "            print('{name} is deleted'.format(name=delete_record))\n",
    "            \n",
    "            \n",
    "            cur.execute('SELECT * FROM EMPLOYEE')\n",
    "            for record in cur.fetchall():\n",
    "                #Ref #1 above cur=conn......\n",
    "                print(record['name'], record['salary'])\n",
    "            print(\"Record updated\")\n",
    "            # not needed for 'with' CLass\n",
    "            #conn.commit()\n",
    "            \n",
    "            # not needed for try,except,finally\n",
    "            #cur.close()\n",
    "            #conn.close()\n",
    "\n",
    "except Exception as error:\n",
    "    print(error)\n",
    "    \n",
    "finally:\n",
    "    # not needed for 'with' CLass\n",
    "    #if cur is not None:\n",
    "        #cur.close()\n",
    "    if conn is not None:\n",
    "        conn.close()\n",
    "        print(\"connection closed\")"
   ]
  },
  {
   "cell_type": "code",
   "execution_count": null,
   "id": "72b40623",
   "metadata": {},
   "outputs": [],
   "source": []
  }
 ],
 "metadata": {
  "kernelspec": {
   "display_name": "Python 3 (ipykernel)",
   "language": "python",
   "name": "python3"
  },
  "language_info": {
   "codemirror_mode": {
    "name": "ipython",
    "version": 3
   },
   "file_extension": ".py",
   "mimetype": "text/x-python",
   "name": "python",
   "nbconvert_exporter": "python",
   "pygments_lexer": "ipython3",
   "version": "3.9.7"
  }
 },
 "nbformat": 4,
 "nbformat_minor": 5
}
